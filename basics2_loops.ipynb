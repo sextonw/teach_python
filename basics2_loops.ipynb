{
 "cells": [
  {
   "cell_type": "code",
   "execution_count": null,
   "metadata": {
    "collapsed": true
   },
   "outputs": [],
   "source": [
    "# variables are defined with =\n",
    "x = 4 # running this code has no output, but the value is stored."
   ]
  },
  {
   "cell_type": "code",
   "execution_count": null,
   "metadata": {
    "collapsed": true
   },
   "outputs": [],
   "source": [
    "print(x)"
   ]
  },
  {
   "cell_type": "code",
   "execution_count": null,
   "metadata": {
    "collapsed": true
   },
   "outputs": [],
   "source": [
    "y = x**2\n",
    "print(y)"
   ]
  },
  {
   "cell_type": "code",
   "execution_count": null,
   "metadata": {
    "collapsed": true
   },
   "outputs": [],
   "source": [
    "x = x**2\n",
    "print(x)\n",
    "print(y) # doesn't change value of y"
   ]
  },
  {
   "cell_type": "code",
   "execution_count": null,
   "metadata": {
    "collapsed": true
   },
   "outputs": [],
   "source": [
    "# for loops are fun.\n",
    "for i in range(5):\n",
    "    print(i)"
   ]
  },
  {
   "cell_type": "code",
   "execution_count": null,
   "metadata": {
    "collapsed": true
   },
   "outputs": [],
   "source": [
    "# if statement\n",
    "if 3 > 0:\n",
    "    print(\"Yes!\")"
   ]
  },
  {
   "cell_type": "code",
   "execution_count": null,
   "metadata": {
    "collapsed": true
   },
   "outputs": [],
   "source": [
    "# inside/outside loop is determined by indentation\n",
    "counter = 0\n",
    "for i in range(10,20): #i starts at 10 , ends at 19. Think half-open interval [10, 20)\n",
    "    if i % 2 == 0: # checks if i is even. Think i mod 2 or remainder when i is divided by 2. \n",
    "        counter += 1 # shorthand for counter = counter + 1\n",
    "        print(\"this is i: {}, this is counter: {}\".format(i,counter)) # prints variable values inside string\n",
    "        # print(f\"this is i: {i}, this is counter: {counter}) # f-string works in python 3.6+\n",
    "    \n",
    "print(counter)"
   ]
  },
  {
   "cell_type": "code",
   "execution_count": null,
   "metadata": {
    "collapsed": true
   },
   "outputs": [],
   "source": [
    "#What will this code output? Why?\n",
    "for i in range(3,8):\n",
    "    counter = 0\n",
    "    for j in range(6):\n",
    "        if i == j:\n",
    "            counter +=1\n",
    "print(counter)"
   ]
  },
  {
   "cell_type": "code",
   "execution_count": null,
   "metadata": {
    "collapsed": true
   },
   "outputs": [],
   "source": [
    "# fix the above code so that the counter actually counts how many times i equals j"
   ]
  },
  {
   "cell_type": "code",
   "execution_count": null,
   "metadata": {
    "collapsed": true
   },
   "outputs": [],
   "source": [
    "# write a loop that prints the squares of 3,4,5,6 "
   ]
  },
  {
   "cell_type": "code",
   "execution_count": null,
   "metadata": {
    "collapsed": true
   },
   "outputs": [],
   "source": [
    "# write a triple loop that counts how often i > j > k where 0 <= i <= 6, 4 <= j <= 8, 2 <= k <= 5. Answer should be 7.\n",
    "# don't forget colons at the end of for/if statements.\n",
    "# if statement condition can be written as: \n",
    "# i > j > k \n",
    "# or\n",
    "# i > j and j > k"
   ]
  },
  {
   "cell_type": "code",
   "execution_count": null,
   "metadata": {
    "collapsed": true
   },
   "outputs": [],
   "source": [
    "# write a loop that prints the next 10 numbers of the fibonacci sequence given the two starting values. Harder.\n",
    "x=1\n",
    "y=1\n",
    "print(x)\n",
    "print(y)   "
   ]
  }
 ],
 "metadata": {
  "kernelspec": {
   "display_name": "Python 3",
   "language": "python",
   "name": "python3"
  },
  "language_info": {
   "codemirror_mode": {
    "name": "ipython",
    "version": 3
   },
   "file_extension": ".py",
   "mimetype": "text/x-python",
   "name": "python",
   "nbconvert_exporter": "python",
   "pygments_lexer": "ipython3",
   "version": "3.6.3"
  }
 },
 "nbformat": 4,
 "nbformat_minor": 2
}
