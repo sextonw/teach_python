{
 "cells": [
  {
   "cell_type": "code",
   "execution_count": null,
   "metadata": {
    "collapsed": true
   },
   "outputs": [],
   "source": [
    "import numpy as np #numpy is a module that gives you access to a lot of nice math stuff \n",
    "# https://docs.scipy.org/doc/numpy-1.15.0/index.html\n",
    "# https://docs.scipy.org/doc/numpy/user/quickstart.html"
   ]
  },
  {
   "cell_type": "code",
   "execution_count": null,
   "metadata": {
    "collapsed": true
   },
   "outputs": [],
   "source": [
    "# construct a 1-d array\n",
    "x = np.array([3,4,5])\n",
    "type(x)\n",
    "\n",
    "y = np.array([2,3,1])"
   ]
  },
  {
   "cell_type": "code",
   "execution_count": null,
   "metadata": {
    "collapsed": true
   },
   "outputs": [],
   "source": [
    "# more array construction examples\n",
    "m = np.array([[1,2,3],[4,5,6],[7,8,9]]) # not really a matrix\n",
    "print(m)\n",
    "\n",
    "I = np.eye(3)\n",
    "print(I)\n",
    "\n",
    "J = np.ones((2,3,4))\n",
    "print(J)"
   ]
  },
  {
   "cell_type": "code",
   "execution_count": null,
   "metadata": {
    "collapsed": true
   },
   "outputs": [],
   "source": [
    "# basic attributes\n",
    "print(m.shape) # dimensions\n",
    "print(m.ndim)  # number of dimensions\n",
    "print(m.size)  # number of elements\n",
    "print(m.dtype) # data type of elements, all elements must be the same type"
   ]
  },
  {
   "cell_type": "code",
   "execution_count": null,
   "metadata": {
    "collapsed": true
   },
   "outputs": [],
   "source": [
    "# basic operations\n",
    "print(x+y)\n",
    "print(y-x)\n",
    "print(y*x) # basic array operations act elementwise\n",
    "print(x**2)\n",
    "print(x+y>6)"
   ]
  },
  {
   "cell_type": "code",
   "execution_count": null,
   "metadata": {
    "collapsed": true
   },
   "outputs": [],
   "source": [
    "# matrix mulitply\n",
    "print(m * x) # this doesn't do matrix multiplication.\n",
    "print(m @ x) # matrix multiply in python 3.5+\n",
    "print(m.dot(x)) # for earlier versions."
   ]
  },
  {
   "cell_type": "code",
   "execution_count": null,
   "metadata": {
    "collapsed": true
   },
   "outputs": [],
   "source": [
    "# Create a 2 x 2 numpy matrix (not an array) M. Pick your own numbers. \n",
    "# https://docs.scipy.org/doc/numpy/reference/generated/numpy.matrix.html\n",
    "# Compute M * M."
   ]
  },
  {
   "cell_type": "code",
   "execution_count": null,
   "metadata": {
    "collapsed": true
   },
   "outputs": [],
   "source": [
    "# Indexing\n",
    "a = np.arange(80)**3\n",
    "a = a.reshape((5,8,2))\n",
    "print(a)\n"
   ]
  },
  {
   "cell_type": "code",
   "execution_count": null,
   "metadata": {
    "collapsed": true
   },
   "outputs": [],
   "source": [
    "# access single element\n",
    "print(a[0,3,1])\n",
    "a[0,3,1] = 49\n",
    "print(a[0,3,1])"
   ]
  },
  {
   "cell_type": "code",
   "execution_count": null,
   "metadata": {
    "collapsed": true
   },
   "outputs": [],
   "source": [
    "# access a slice/subset\n",
    "a[3:,2:6,0]"
   ]
  },
  {
   "cell_type": "code",
   "execution_count": null,
   "metadata": {
    "collapsed": true
   },
   "outputs": [],
   "source": [
    "# using fewer indices\n",
    "a[3] # interpreted as a[3,:,:]"
   ]
  },
  {
   "cell_type": "code",
   "execution_count": null,
   "metadata": {
    "collapsed": true
   },
   "outputs": [],
   "source": [
    "# shape manipulation\n",
    "print(a.flatten())\n",
    "print(a.T)\n",
    "print(a.T.shape)"
   ]
  },
  {
   "cell_type": "code",
   "execution_count": null,
   "metadata": {
    "collapsed": true
   },
   "outputs": [],
   "source": [
    "# copy pitfall, no new copy made here.\n",
    "a = np.ones(3)\n",
    "print(\"a: {}\".format(a))\n",
    "b = a\n",
    "print(\"b: {}\".format(b))\n",
    "b[1]=0\n",
    "print(\"b: {}\".format(b))\n",
    "print(\"a: {}\".format(a))"
   ]
  },
  {
   "cell_type": "code",
   "execution_count": null,
   "metadata": {
    "collapsed": true
   },
   "outputs": [],
   "source": [
    "# deep copy\n",
    "a = np.ones(3)\n",
    "print(\"a: {}\".format(a))\n",
    "b = a.copy()\n",
    "print(\"b: {}\".format(b))\n",
    "b[1]=0\n",
    "print(\"b: {}\".format(b))\n",
    "print(\"a: {}\".format(a))"
   ]
  },
  {
   "cell_type": "code",
   "execution_count": null,
   "metadata": {
    "collapsed": true
   },
   "outputs": [],
   "source": [
    "# exerice: find the mean of each column of this 2d array. Solution should be a 1d array.\n",
    "height_weight = np.array([[6,180],[5,130],[5.5,170],[6.5,230],[5.8,160],[6.2,250],[4.7,90],[6,145]])\n",
    "print(height_weight)"
   ]
  },
  {
   "cell_type": "code",
   "execution_count": null,
   "metadata": {
    "collapsed": true
   },
   "outputs": [],
   "source": [
    "# https://docs.scipy.org/doc/numpy-1.15.0/reference/routines.random.html\n",
    "# randomness stuff\n",
    "norm_draw = np.random.normal(loc=4,scale=2)\n",
    "print(norm_draw)\n",
    "norm_sample = np.random.normal(loc=4,scale=2,size=100)\n",
    "print(norm_sample)\n",
    "print(norm_sample.mean())\n",
    "print(norm_sample.std())\n",
    "\n",
    "norm_shape=np.random.normal(loc=4,scale=2,size=(2,2))\n",
    "print(norm_shape)"
   ]
  },
  {
   "cell_type": "code",
   "execution_count": null,
   "metadata": {
    "collapsed": true
   },
   "outputs": [],
   "source": [
    "# draw 3 samples with replace from [10,4,3,6,18] where the probabilities of each are [.2,.3,.2,.1,.2] resp."
   ]
  },
  {
   "cell_type": "code",
   "execution_count": null,
   "metadata": {
    "collapsed": true
   },
   "outputs": [],
   "source": [
    "# Extra reading: broadcasting."
   ]
  }
 ],
 "metadata": {
  "kernelspec": {
   "display_name": "Python 3",
   "language": "python",
   "name": "python3"
  },
  "language_info": {
   "codemirror_mode": {
    "name": "ipython",
    "version": 3
   },
   "file_extension": ".py",
   "mimetype": "text/x-python",
   "name": "python",
   "nbconvert_exporter": "python",
   "pygments_lexer": "ipython3",
   "version": "3.6.3"
  }
 },
 "nbformat": 4,
 "nbformat_minor": 2
}
