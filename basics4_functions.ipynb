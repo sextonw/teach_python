{
 "cells": [
  {
   "cell_type": "code",
   "execution_count": null,
   "metadata": {
    "collapsed": true
   },
   "outputs": [],
   "source": [
    "# functions look like def func_name(inputs):\n",
    "def double(x):\n",
    "    return x*2\n",
    "print(double(3))\n",
    "print(double(\"yub\"))"
   ]
  },
  {
   "cell_type": "code",
   "execution_count": null,
   "metadata": {
    "collapsed": true
   },
   "outputs": [],
   "source": [
    "def isPrime(n):\n",
    "    \"\"\" n>1 is prime if n \\in \\mathbb{N} and for any k \\in \\mathbb{N} if k | n then k=1 or k=n  \"\"\"\n",
    "    if type(n) != int:\n",
    "        return False\n",
    "    if n<2:\n",
    "        return False\n",
    "    for i in range(2,n):\n",
    "        if n % i == 0:\n",
    "            return False\n",
    "    return True\n",
    "print(isPrime(3))\n",
    "print(isPrime(2))\n",
    "print(isPrime(6))\n",
    "print(isPrime(43))\n",
    "print(isPrime(\"tree\"))\n",
    "print(isPrime(3.14))\n",
    "print(isPrime(5.0))"
   ]
  },
  {
   "cell_type": "code",
   "execution_count": null,
   "metadata": {
    "collapsed": true
   },
   "outputs": [],
   "source": [
    "# write a function that finds the largest number given a list of numbers"
   ]
  },
  {
   "cell_type": "code",
   "execution_count": null,
   "metadata": {
    "collapsed": true
   },
   "outputs": [],
   "source": [
    "def vector_sum(x, y):\n",
    "    \"\"\" Assumes x and y are two real valued lists of the same length \"\"\"\n",
    "    return [x[i]+y[i] for i in range(len(x))]\n",
    "z = vector_sum([0,3], [-1,4])\n",
    "print(z)"
   ]
  },
  {
   "cell_type": "code",
   "execution_count": null,
   "metadata": {
    "collapsed": true
   },
   "outputs": [],
   "source": [
    "import math\n",
    "def dist(x, y=(0,0)):\n",
    "    \"Assumes x and y are tuples. Find the dist between two points, second point defaults to origin\"\n",
    "    return math.sqrt((x[0]-y[0])**2 + (x[1]-y[1])**2)\n",
    "print(dist((3,4),(1,2)))\n",
    "print(dist((3,4)))\n",
    "print(dist(x=(3,4), y=(6,2)))\n",
    "    "
   ]
  },
  {
   "cell_type": "code",
   "execution_count": null,
   "metadata": {
    "collapsed": true
   },
   "outputs": [],
   "source": [
    "# it's dangerous to use mutable objects as defaults.\n",
    "def foo(x=[]):\n",
    "    x.append(1)\n",
    "    print(x)\n",
    "foo()\n",
    "foo()\n",
    "foo()"
   ]
  },
  {
   "cell_type": "code",
   "execution_count": null,
   "metadata": {
    "collapsed": true
   },
   "outputs": [],
   "source": [
    "# write a function that computes the mean of two numbers."
   ]
  },
  {
   "cell_type": "code",
   "execution_count": null,
   "metadata": {
    "collapsed": true
   },
   "outputs": [],
   "source": [
    "# write a function that finds the smallest root of the quadratic equation a*x^2 + b*x + c. \n",
    "# Return None if no real roots exist. Assume a defaults to 1. harder.\n",
    "# Use your function to find the smallest root of x^2+6x+5 and x^2+1. The latter should return None."
   ]
  }
 ],
 "metadata": {
  "kernelspec": {
   "display_name": "Python 3",
   "language": "python",
   "name": "python3"
  },
  "language_info": {
   "codemirror_mode": {
    "name": "ipython",
    "version": 3
   },
   "file_extension": ".py",
   "mimetype": "text/x-python",
   "name": "python",
   "nbconvert_exporter": "python",
   "pygments_lexer": "ipython3",
   "version": "3.6.3"
  }
 },
 "nbformat": 4,
 "nbformat_minor": 2
}
